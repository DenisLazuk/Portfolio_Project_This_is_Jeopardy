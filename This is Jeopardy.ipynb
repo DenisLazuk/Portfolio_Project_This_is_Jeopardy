{
 "cells": [
  {
   "cell_type": "markdown",
   "metadata": {},
   "source": [
    "# This is Jeopardy!"
   ]
  },
  {
   "cell_type": "markdown",
   "metadata": {},
   "source": [
    "## Project Requirements"
   ]
  },
  {
   "cell_type": "markdown",
   "metadata": {},
   "source": [
    "1. A csv file contains data about the game show _Jeopardy!_ in a file named `jeopardy.csv`. Load the data into a DataFrame and investigate its contents. Print out specific columns."
   ]
  },
  {
   "cell_type": "code",
   "execution_count": 129,
   "metadata": {},
   "outputs": [
    {
     "name": "stdout",
     "output_type": "stream",
     "text": [
      "<class 'pandas.core.frame.DataFrame'>\n",
      "RangeIndex: 216930 entries, 0 to 216929\n",
      "Data columns (total 7 columns):\n",
      " #   Column       Non-Null Count   Dtype \n",
      "---  ------       --------------   ----- \n",
      " 0   Show Number  216930 non-null  int64 \n",
      " 1    Air Date    216930 non-null  object\n",
      " 2    Round       216930 non-null  object\n",
      " 3    Category    216930 non-null  object\n",
      " 4    Value       216930 non-null  object\n",
      " 5    Question    216930 non-null  object\n",
      " 6    Answer      216928 non-null  object\n",
      "dtypes: int64(1), object(6)\n",
      "memory usage: 11.6+ MB\n",
      "None\n",
      "   Show Number    Air Date      Round                         Category  Value  \\\n",
      "0         4680  2004-12-31  Jeopardy!                          HISTORY   $200   \n",
      "1         4680  2004-12-31  Jeopardy!  ESPN's TOP 10 ALL-TIME ATHLETES   $200   \n",
      "2         4680  2004-12-31  Jeopardy!      EVERYBODY TALKS ABOUT IT...   $200   \n",
      "3         4680  2004-12-31  Jeopardy!                 THE COMPANY LINE   $200   \n",
      "4         4680  2004-12-31  Jeopardy!              EPITAPHS & TRIBUTES   $200   \n",
      "\n",
      "                                                                                                      Question  \\\n",
      "0             For the last 8 years of his life, Galileo was under house arrest for espousing this man's theory   \n",
      "1  No. 2: 1912 Olympian; football star at Carlisle Indian School; 6 MLB seasons with the Reds, Giants & Braves   \n",
      "2                     The city of Yuma in this state has a record average of 4,055 hours of sunshine each year   \n",
      "3                         In 1963, live on \"The Art Linkletter Show\", this company served its billionth burger   \n",
      "4     Signer of the Dec. of Indep., framer of the Constitution of Mass., second President of the United States   \n",
      "\n",
      "       Answer  \n",
      "0  Copernicus  \n",
      "1  Jim Thorpe  \n",
      "2     Arizona  \n",
      "3  McDonald's  \n",
      "4  John Adams  \n"
     ]
    }
   ],
   "source": [
    "# Import of libriaries and loading of the dataset\n",
    "import pandas as pd\n",
    "pd.set_option('display.max_colwidth', None)\n",
    "jeopardy = pd.read_csv('jeopardy.csv')\n",
    "print(jeopardy.info())\n",
    "print(jeopardy.head())"
   ]
  },
  {
   "cell_type": "code",
   "execution_count": 130,
   "metadata": {},
   "outputs": [
    {
     "name": "stdout",
     "output_type": "stream",
     "text": [
      "   show_number    air_date      round                         category value  \\\n",
      "0         4680  2004-12-31  Jeopardy!                          HISTORY  $200   \n",
      "1         4680  2004-12-31  Jeopardy!  ESPN's TOP 10 ALL-TIME ATHLETES  $200   \n",
      "2         4680  2004-12-31  Jeopardy!      EVERYBODY TALKS ABOUT IT...  $200   \n",
      "3         4680  2004-12-31  Jeopardy!                 THE COMPANY LINE  $200   \n",
      "4         4680  2004-12-31  Jeopardy!              EPITAPHS & TRIBUTES  $200   \n",
      "\n",
      "                                                                                                      question  \\\n",
      "0             For the last 8 years of his life, Galileo was under house arrest for espousing this man's theory   \n",
      "1  No. 2: 1912 Olympian; football star at Carlisle Indian School; 6 MLB seasons with the Reds, Giants & Braves   \n",
      "2                     The city of Yuma in this state has a record average of 4,055 hours of sunshine each year   \n",
      "3                         In 1963, live on \"The Art Linkletter Show\", this company served its billionth burger   \n",
      "4     Signer of the Dec. of Indep., framer of the Constitution of Mass., second President of the United States   \n",
      "\n",
      "       answer  \n",
      "0  Copernicus  \n",
      "1  Jim Thorpe  \n",
      "2     Arizona  \n",
      "3  McDonald's  \n",
      "4  John Adams  \n",
      "0          $200\n",
      "1          $200\n",
      "2          $200\n",
      "3          $200\n",
      "4          $200\n",
      "          ...  \n",
      "216925    $2000\n",
      "216926    $2000\n",
      "216927    $2000\n",
      "216928    $2000\n",
      "216929     None\n",
      "Name: value, Length: 216930, dtype: object\n"
     ]
    }
   ],
   "source": [
    "# Rename the columns for convenience and check the result\n",
    "jeopardy.columns = ['show_number', 'air_date', 'round', 'category', 'value', 'question', 'answer']\n",
    "print(jeopardy.head())\n",
    "print(jeopardy.value)"
   ]
  },
  {
   "cell_type": "code",
   "execution_count": 131,
   "metadata": {},
   "outputs": [
    {
     "name": "stdout",
     "output_type": "stream",
     "text": [
      "['$200' '$400' '$600' '$800' '$2,000' '$1000' '$1200' '$1600' '$2000'\n",
      " '$3,200' 'None' '$5,000' '$100' '$300' '$500' '$1,000' '$1,500' '$1,200'\n",
      " '$4,800' '$1,800' '$1,100' '$2,200' '$3,400' '$3,000' '$4,000' '$1,600'\n",
      " '$6,800' '$1,900' '$3,100' '$700' '$1,400' '$2,800' '$8,000' '$6,000'\n",
      " '$2,400' '$12,000' '$3,800' '$2,500' '$6,200' '$10,000' '$7,000' '$1,492'\n",
      " '$7,400' '$1,300' '$7,200' '$2,600' '$3,300' '$5,400' '$4,500' '$2,100'\n",
      " '$900' '$3,600' '$2,127' '$367' '$4,400' '$3,500' '$2,900' '$3,900'\n",
      " '$4,100' '$4,600' '$10,800' '$2,300' '$5,600' '$1,111' '$8,200' '$5,800'\n",
      " '$750' '$7,500' '$1,700' '$9,000' '$6,100' '$1,020' '$4,700' '$2,021'\n",
      " '$5,200' '$3,389' '$4,200' '$5' '$2,001' '$1,263' '$4,637' '$3,201'\n",
      " '$6,600' '$3,700' '$2,990' '$5,500' '$14,000' '$2,700' '$6,400' '$350'\n",
      " '$8,600' '$6,300' '$250' '$3,989' '$8,917' '$9,500' '$1,246' '$6,435'\n",
      " '$8,800' '$2,222' '$2,746' '$10,400' '$7,600' '$6,700' '$5,100' '$13,200'\n",
      " '$4,300' '$1,407' '$12,400' '$5,401' '$7,800' '$1,183' '$1,203' '$13,000'\n",
      " '$11,600' '$14,200' '$1,809' '$8,400' '$8,700' '$11,000' '$5,201'\n",
      " '$1,801' '$3,499' '$5,700' '$601' '$4,008' '$50' '$2,344' '$2,811'\n",
      " '$18,000' '$1,777' '$3,599' '$9,800' '$796' '$3,150' '$20' '$1,810' '$22'\n",
      " '$9,200' '$1,512' '$8,500' '$585' '$1,534' '$13,800' '$5,001' '$4,238'\n",
      " '$16,400' '$1,347' '$2547' '$11,200']\n"
     ]
    }
   ],
   "source": [
    "# The values in  column 'values' are strings. First let's print all unique values\n",
    "print(jeopardy.value.unique())"
   ]
  },
  {
   "cell_type": "code",
   "execution_count": 132,
   "metadata": {},
   "outputs": [
    {
     "name": "stdout",
     "output_type": "stream",
     "text": [
      "   show_number    air_date      round                         category  value  \\\n",
      "0         4680  2004-12-31  Jeopardy!                          HISTORY  200.0   \n",
      "1         4680  2004-12-31  Jeopardy!  ESPN's TOP 10 ALL-TIME ATHLETES  200.0   \n",
      "2         4680  2004-12-31  Jeopardy!      EVERYBODY TALKS ABOUT IT...  200.0   \n",
      "3         4680  2004-12-31  Jeopardy!                 THE COMPANY LINE  200.0   \n",
      "4         4680  2004-12-31  Jeopardy!              EPITAPHS & TRIBUTES  200.0   \n",
      "\n",
      "                                                                                                      question  \\\n",
      "0             For the last 8 years of his life, Galileo was under house arrest for espousing this man's theory   \n",
      "1  No. 2: 1912 Olympian; football star at Carlisle Indian School; 6 MLB seasons with the Reds, Giants & Braves   \n",
      "2                     The city of Yuma in this state has a record average of 4,055 hours of sunshine each year   \n",
      "3                         In 1963, live on \"The Art Linkletter Show\", this company served its billionth burger   \n",
      "4     Signer of the Dec. of Indep., framer of the Constitution of Mass., second President of the United States   \n",
      "\n",
      "       answer  \n",
      "0  Copernicus  \n",
      "1  Jim Thorpe  \n",
      "2     Arizona  \n",
      "3  McDonald's  \n",
      "4  John Adams  \n"
     ]
    }
   ],
   "source": [
    "# First we must treat 'None' strings - convert them to float number 0.0. \n",
    "# Then we remove dollar sign and commas from our strings and convert all of them into floats.\n",
    "jeopardy['value'] = jeopardy['value'].replace('None', 0.0 , regex=True).replace('[\\$,]', '', regex=True).astype(float)\n",
    "\n",
    "# Check the result\n",
    "print(jeopardy.head())"
   ]
  },
  {
   "cell_type": "code",
   "execution_count": 133,
   "metadata": {},
   "outputs": [],
   "source": [
    "# Additionally change the type of 'air_date' column according to its logic to datetime\n",
    "jeopardy[\"air_date\"] = pd.to_datetime(jeopardy[\"air_date\"])"
   ]
  },
  {
   "cell_type": "code",
   "execution_count": 134,
   "metadata": {},
   "outputs": [
    {
     "name": "stdout",
     "output_type": "stream",
     "text": [
      "   show_number   air_date      round                         category  value  \\\n",
      "0         4680 2004-12-31  Jeopardy!                          HISTORY  200.0   \n",
      "1         4680 2004-12-31  Jeopardy!  ESPN's TOP 10 ALL-TIME ATHLETES  200.0   \n",
      "2         4680 2004-12-31  Jeopardy!      EVERYBODY TALKS ABOUT IT...  200.0   \n",
      "3         4680 2004-12-31  Jeopardy!                 THE COMPANY LINE  200.0   \n",
      "4         4680 2004-12-31  Jeopardy!              EPITAPHS & TRIBUTES  200.0   \n",
      "\n",
      "                                                                                                      question  \\\n",
      "0             For the last 8 years of his life, Galileo was under house arrest for espousing this man's theory   \n",
      "1  No. 2: 1912 Olympian; football star at Carlisle Indian School; 6 MLB seasons with the Reds, Giants & Braves   \n",
      "2                     The city of Yuma in this state has a record average of 4,055 hours of sunshine each year   \n",
      "3                         In 1963, live on \"The Art Linkletter Show\", this company served its billionth burger   \n",
      "4     Signer of the Dec. of Indep., framer of the Constitution of Mass., second President of the United States   \n",
      "\n",
      "       answer  \n",
      "0  Copernicus  \n",
      "1  Jim Thorpe  \n",
      "2     Arizona  \n",
      "3  McDonald's  \n",
      "4  John Adams  \n"
     ]
    }
   ],
   "source": [
    "# Check the result for the time being\n",
    "print(jeopardy.head())"
   ]
  },
  {
   "cell_type": "markdown",
   "metadata": {},
   "source": [
    "2. Write a function that filters the dataset for questions that contains all of the words in a list of words. For example, when the list `[\"King\", \"England\"]` was passed to our function, the function returned a DataFrame of 49 rows. Every row had the strings `\"King\"` and `\"England\"` somewhere in its `\" Question\"`.\n",
    "\n",
    "   Test the function by printing out the column containing the question of each row of the dataset."
   ]
  },
  {
   "cell_type": "code",
   "execution_count": 14,
   "metadata": {},
   "outputs": [
    {
     "name": "stdout",
     "output_type": "stream",
     "text": [
      "49\n",
      "4953                                                                                                                                                                                                                                                                      Both England's King George V & FDR put their stamp of approval on this \"King of Hobbies\"\n",
      "14912                                                                                                                                                                                                                                                            This country's King Louis IV was nicknamed \"Louis From Overseas\" because he was raised in England\n",
      "21511                                                                                                                                                                                                                                                                                 this man and his son ruled England following the execution of King Charles I\n",
      "23810                                                                                                                                                                                                                                                         William the Conqueror was crowned King of England in Westminster Abbey on Christmas Day in this year\n",
      "27555                                                                                                                                                                                                                                                                           This member of the Medici family was the mother-in-law of England's King Charles I\n",
      "33294                 (Sarah of the Clue Crew delivers the clue from the Bayeux Cathedral in France.)  Despite taking an oath to assure another succession, Harold is crowned King of England; the tapestry indicated it was <a href=\"http://www.j-archive.com/media/2008-12-18_J_08.jpg\" target=\"_blank\">Stigant</a>, this archbishop, who performed the ceremony\n",
      "41148                                                                                                                                                                                                                                    This French king recognized William of Orange as William II, King of England, under the terms of 1697's Treaty of Ryswick\n",
      "41357                                                                                                                                                                                                                                                     England's King Henry VIII had 3 wives named Catherine:  Catherine Howard, Catherine of Aragon & this one\n",
      "43122                                                                                                                                                                                                                                                                                                                       The father of England's King Edward VI\n",
      "47814                                                                                                                                                                                                                                                                                                   This steak sauce was created for King George IV of England\n",
      "49994                                                                                                                                                                                                                                                                       Elizabeth I's half-brother, he reigned before her as King of England from 1547 to 1553\n",
      "51115                                                                                                                  (<a href=\"http://www.j-archive.com/media/2000-03-02_J_22.jpg\" target=\"_blank\">Alex Trebek reads from England.</a>)  In 1214 barons fed up with King John met at the abbey whose ruins we see here; the result a year later was this charter\n",
      "51565                                                                                                                                                                                                                                                 He wrote several anthems, including \"The King Shall Rejoice\", for the coronation of England's King George II\n",
      "56600                                                                                                                                                                                                                                                              This city known for its 24-hour auto race was the birthplace of England's King Henry II in 1133\n",
      "57516                                                                                                                                                                                                                                                                                         Famous (& rather insulting) adjective for England's King Ethelred II\n",
      "58949                                                                                                                                                                                                                                                                        He became King of England in 1399 after forcing his cousin Richard II from the throne\n",
      "71808                                                                                                                                                                                                                                                                                      Number of the William who was England's \"Sailor King\" from 1830 to 1837\n",
      "74235                                                                                                                                                                                                                                                                     Barons & churchmen drew up this 1215 document to reduce the power of England's King John\n",
      "77195                                                                                                                                                                                                                                                          He became King of England on June 26, 1483; just over 2 years later he was killed at Bosworth Field\n",
      "79457                                                                                                                                                                                                                                              On Christmas Day 1066, he was crowned King of England, 72 days after defeating Harold at the Battle of Hastings\n",
      "80113                                                                                                                                                                                                                                                                                                England's King Charles II was known by this \"jovial\" nickname\n",
      "84639                                                                                                                                                                                                                                                                            He went from second banana on \"Roseanne\" to top banana of England in \"King Ralph\"\n",
      "86412                                                                                                                                                                                                                                                                         This country's King Olaf V was born in England & was the grandson of King Edward VII\n",
      "89710                                                                                                                                                                                                                                                            This 11th Century King of England also ruled Denmark & Norway during the latter part of his reign\n",
      "111926                                                                                                                                                                                                                                                   It begins \"John, by the grace of God, King of England, Lord of Ireland, Duke of Normandy & Aquitaine....\"\n",
      "118809                                                                                                                                                                                                                                                                                            In French this King of England is called Guillaume le Conquerant\n",
      "123299                                                                                                                                                                                                                                                                     If you want to be crowned King of England, this rock has to be in your coronation chair\n",
      "123671                                                                                                                                                                                                                                                                                                                              King Henry VII of England dies\n",
      "125822                                                                                                                                                                                                                                                                                              Famous nickname of the eldest son of England's King Edward III\n",
      "127484                                                                                                                                                                                                                                                                Ethelred the Unready managed to lose most of England to King Sweyn Forkbeard of this country\n",
      "127758                                                                                                                                                                                                                                                                                  This state was named for the King of England who reigned from 1727 to 1760\n",
      "129106                                                                                                                                                                                                                                                              King Edward I of England, who fought William Wallace, had this nickname relating to his height\n",
      "130208                                                                                                                                                                                                                                                                                    This \"Sun King\" sniffed, \"England is a little garden full of sour weeds\"\n",
      "137818                                                                                                                                                                                                                                                                                        The last King William to rule England had this number after his name\n",
      "143434                                                                                                                                                                                                                                                                This Flemish artist painted a unique triple portrait of England's King Charles I around 1637\n",
      "150880                                                                                                                                                                                                                                                                                       During Stanley Baldwin's term as P.M., this King of England abdicated\n",
      "165110                                                                                                                                                                                                                                                        The 1st commoner to rule England, he became lord protector following the overthrow of King Charles I\n",
      "165197                                                                                                                                                                                                                                                       The \"Angel of Hadley\" is said to have saved a New England town during the war with this Indian \"King\"\n",
      "170007                                                                                                                                                                                                                                                                In the 1697 Treaty of Rijswijk, the French recognized this Dutch-born man as King of England\n",
      "174055                                                                                                                                                                                                                                                                                            This conqueror was crowned King of England on Christmas Day 1066\n",
      "175259                                                                                                                                                                                                                                                                                                          His short reign as King of England fell in in 1936\n",
      "183462                                                                                                                                                                                                                                                            A capital in the West Indies is named for this family name of William of Orange, King of England\n",
      "186239                                                                                                                                                                                                                                           He was King of England from 1189 to 1199 but spent only 6 months there; the rest of the time, he was off fighting\n",
      "187651                                                                                                                                                                                                                                                                     This Bahamian capital took its name from the family name of King William III of England\n",
      "191579                                                                                                                                                                                                                                                                             England's King Harold II lost the all-important Battle of Hastings in this year\n",
      "192265    (<a href=\"http://www.j-archive.com/media/2012-01-17_DJ_25.jpg\" target=\"_blank\">Sarah of the Clue Crew stands in front of the Royal Palace in Oslo, Norway.</a>) King Harald V lives here, in Norway's Royal Palace. He and his second cousin, England's Queen Elizabeth, are both great-grandchildren of this British king, who ruled from 1901 to 1910.\n",
      "192966                                                                                                                                                                                                                                                                                                                          England's King _____ _____ R. Luce\n",
      "194516                                                                                                                                                                                                                                                            The \"Monty Python\" member who played King Arthur, he ended his grail quest in Maidstone, England\n",
      "200369                                                                                                                                                                                                                                             8th C. King Offa built a 170-mile north-south dike that still partly marks the border of England & this country\n",
      "Name: question, dtype: object\n"
     ]
    }
   ],
   "source": [
    "# My Solution\n",
    "king_england = jeopardy[jeopardy.question.str.contains(\"King\") & jeopardy.question.str.contains(\"England\")]\n",
    "print(len(king_england))\n",
    "print(king_england.question)\n",
    "\n",
    "# Course solution:\n",
    "def king_england (data, words):\n",
    "    filter = lambda x: all(word in x for word in words)\n",
    "    return data.loc[data['question'].apply(filter)]\n",
    "filtered = king_england(jeopardy, ['King', 'England'])\n",
    "print(filtered['question'])"
   ]
  },
  {
   "cell_type": "markdown",
   "metadata": {},
   "source": [
    "3. Test the original function with a few different sets of words to try to find some ways your function breaks. Edit the function so it is more robust.\n",
    "\n",
    "   For example, think about capitalization. We probably want to find questions that contain the word `\"King\"` or `\"king\"`.\n",
    "   \n",
    "   You may also want to check to make sure you don't find rows that contain substrings of your given words. For example, our function found a question that didn't contain the word `\"king\"`, however it did contain the word `\"viking\"` &mdash; it found the `\"king\"` inside `\"viking\"`. Note that this also comes with some drawbacks &mdash; you would no longer find questions that contained words like `\"England's\"`."
   ]
  },
  {
   "cell_type": "code",
   "execution_count": 139,
   "metadata": {},
   "outputs": [
    {
     "name": "stdout",
     "output_type": "stream",
     "text": [
      "4953                   Both England's King George V & FDR put their stamp of approval on this \"King of Hobbies\"\n",
      "6337     In retaliation for Viking raids, this \"Unready\" king of England attacks Norse areas of the Isle of Man\n",
      "9191                   This king of England beat the odds to trounce the French in the 1415 Battle of Agincourt\n",
      "11710              This Scotsman, the first Stuart king of England, was called \"The Wisest Fool in Christendom\"\n",
      "13454                                      It's the number that followed the last king of England named William\n",
      "Name: question, dtype: object\n",
      "152\n"
     ]
    }
   ],
   "source": [
    "# My Solution\n",
    "king_england = jeopardy[jeopardy.question.str.contains(\"King\", case=False)\\\n",
    "                        & jeopardy.question.str.contains(\"England\", case=False)]\n",
    "print(king_england.question.head())\n",
    "print(len(king_england))"
   ]
  },
  {
   "cell_type": "code",
   "execution_count": 137,
   "metadata": {},
   "outputs": [
    {
     "name": "stdout",
     "output_type": "stream",
     "text": [
      "4953                    Both England's King George V & FDR put their stamp of approval on this \"King of Hobbies\"\n",
      "6337      In retaliation for Viking raids, this \"Unready\" king of England attacks Norse areas of the Isle of Man\n",
      "9191                    This king of England beat the odds to trounce the French in the 1415 Battle of Agincourt\n",
      "11710               This Scotsman, the first Stuart king of England, was called \"The Wisest Fool in Christendom\"\n",
      "13454                                       It's the number that followed the last king of England named William\n",
      "                                                           ...                                                  \n",
      "208295        In 1066 this great-great grandson of Rollo made what some call the last Viking invasion of England\n",
      "208742                      Dutch-born king who ruled England jointly with Mary II & is a tasty New Zealand fish\n",
      "213870                In 1781 William Herschel discovered Uranus & initially named it after this king of England\n",
      "216021          His nickname was \"Bertie\", but he used this name & number when he became king of England in 1901\n",
      "216789        This kingdom of England grew from 2 settlements, one founded around 495 by Cerdic & his son Cynric\n",
      "Name: question, Length: 152, dtype: object\n",
      "152\n"
     ]
    }
   ],
   "source": [
    "# Course Solution:\n",
    "# Filtering a dataset by a list of words\n",
    "def king_england(data, words):\n",
    "  # Lowercases all words in the list of words as well as the questions. Returns true if all of the words in the list appear in the question.\n",
    "  filter = lambda x: all(word.lower() in x.lower() for word in words)\n",
    "  # Applies the lambda function to the Question column and returns the rows where the function returned True\n",
    "  return data.loc[data[\"question\"].apply(filter)]\n",
    "\n",
    "# Testing the filter function\n",
    "filtered = king_england(jeopardy, [\"King\", \"England\"])\n",
    "print(filtered[\"question\"])\n",
    "print(len(filtered))"
   ]
  },
  {
   "cell_type": "markdown",
   "metadata": {},
   "source": [
    "4. We may want to eventually compute aggregate statistics, like `.mean()` on the `\" Value\"` column. Use the 'value column of each question to find the \"difficulty\" of certain topics. For example, what is the average value of questions that contain the word `\"King\"`?\n",
    "   \n",
    "   Make sure to use the dataset that contains the float values as the dataset you use in your filtering function."
   ]
  },
  {
   "cell_type": "code",
   "execution_count": 38,
   "metadata": {},
   "outputs": [
    {
     "name": "stdout",
     "output_type": "stream",
     "text": [
      "773.44\n"
     ]
    }
   ],
   "source": [
    "king_difficulty = round(jeopardy[jeopardy.question.str.contains(\"King\", case=True)].value.mean(),2)\n",
    "print(king_difficulty)"
   ]
  },
  {
   "cell_type": "markdown",
   "metadata": {},
   "source": [
    "5. Write a function that returns the count of unique answers to all of the questions in a dataset. For example, after filtering the entire dataset to only questions containing the word `\"King\"`, we could then find all of the unique answers to those questions. The answer \"Henry VIII\" appeared 55 times and was the most common answer."
   ]
  },
  {
   "cell_type": "code",
   "execution_count": 58,
   "metadata": {},
   "outputs": [
    {
     "name": "stdout",
     "output_type": "stream",
     "text": [
      "Henry VIII                   55\n",
      "Solomon                      35\n",
      "Richard III                  33\n",
      "Louis XIV                    31\n",
      "David                        30\n",
      "                             ..\n",
      "cardiac (in card I acted)     1\n",
      "Henderson                     1\n",
      "Computer                      1\n",
      "Indians                       1\n",
      "work                          1\n",
      "Name: answer, Length: 5268, dtype: int64\n"
     ]
    }
   ],
   "source": [
    "# A function to find the unique answers of a set of data\n",
    "def get_answer_counts(data):\n",
    "    return data[\"answer\"].value_counts()\n",
    "\n",
    "# Testing the answer count function\n",
    "filtered = king_england(jeopardy, [\"King\"])\n",
    "print(get_answer_counts(filtered))"
   ]
  },
  {
   "cell_type": "markdown",
   "metadata": {},
   "source": [
    "6. Explore from here! This is an incredibly rich dataset, and there are so many interesting things to discover. There are a few columns that we haven't even started looking at yet. Here are some ideas on ways to continue working with this data:\n",
    "\n",
    " * Investigate the ways in which questions change over time by filtering by the date. How many questions from the 90s use the word `\"Computer\"` compared to questions from the 2000s?\n",
    " * Is there a connection between the round and the category? Are you more likely to find certain categories, like `\"Literature\"` in Single Jeopardy or Double Jeopardy?"
   ]
  },
  {
   "cell_type": "code",
   "execution_count": 140,
   "metadata": {},
   "outputs": [
    {
     "name": "stdout",
     "output_type": "stream",
     "text": [
      "       show_number   air_date             round                 category  \\\n",
      "2410          3214 1998-07-16         Jeopardy!   PRE-COLUMBIAN CULTURES   \n",
      "5077          3480 1999-10-22  Double Jeopardy!  19th CENTURY LITERATURE   \n",
      "18795         3175 1998-05-22  Double Jeopardy!            GREEK LETTERS   \n",
      "20837         3118 1998-03-04         Jeopardy!                GO TO \"H\"   \n",
      "22502         2874 1997-02-13         Jeopardy!      BUSINESS & INDUSTRY   \n",
      "\n",
      "        value  \\\n",
      "2410    500.0   \n",
      "5077    500.0   \n",
      "18795  1000.0   \n",
      "20837   200.0   \n",
      "22502   200.0   \n",
      "\n",
      "                                                                                                     question  \\\n",
      "2410                   Warriors of this Yucatan civilization battle in the computer-enhanced mural seen here:   \n",
      "5077   Edward Bellamy's 1888 book \"Looking Backward\" sends a man to this year & doesn't mention computer bugs   \n",
      "18795   Computer games & programs undergo this test period to work out bugs before their final retail release   \n",
      "20837           At best, it's a computer enthusiast; at worst, it's one who illegally taps into your computer   \n",
      "22502                            This company's new computer products include the Aptiva S & the Thinkpad 560   \n",
      "\n",
      "             answer  \n",
      "2410         Mayans  \n",
      "5077           2000  \n",
      "18795  Beta testing  \n",
      "20837        Hacker  \n",
      "22502           IBM  \n",
      "      show_number   air_date             round                category  \\\n",
      "309          5690 2009-05-08         Jeopardy!  OLD FOLKS IN THEIR 30s   \n",
      "342          5690 2009-05-08  Double Jeopardy!          MATHEM-ATTACK!   \n",
      "1106         4085 2002-05-10  Double Jeopardy!      \"EN\" THE BEGINNING   \n",
      "1430         4960 2006-03-17         Jeopardy!   RECORD LOSSES IN 2005   \n",
      "3078         4487 2004-02-24  Double Jeopardy!                    LISA   \n",
      "\n",
      "       value  \\\n",
      "309    600.0   \n",
      "342   1200.0   \n",
      "1106   800.0   \n",
      "1430   200.0   \n",
      "3078   800.0   \n",
      "\n",
      "                                                                                                                                                                                                                                                                                                                                                 question  \\\n",
      "309                                                                                                                                                                                                                                                            Linus Torvalds is the father of this operating system used on cell phones & supercomputers   \n",
      "342   (<a href=\"http://www.j-archive.com/media/2009-05-08_DJ_28.jpg\" target=\"_blank\">Kelly of the Clue Crew shows an array of numbers enclosed in brackets on the monitor.</a>)  A set of numbers in rows and columns can be used in many ways--for example, to encrypt a code or create 3-D computer graphics; the set shares this name with a 1999 film   \n",
      "1106                                                                                                                                                                                                                                                                             2-word term for the consumer, for whom a computer is ultimately designed   \n",
      "1430                                                                                                                                                                                                                                               A computer with 98,000 names & SSNs was reported stolen from this oldest campus of the Univ. of Calif.   \n",
      "3078                                                                                                                                                                                                                                                         In 1983 Apple introduced the Lisa personal computer, the first PC with one of these controls   \n",
      "\n",
      "           answer  \n",
      "309         Linux  \n",
      "342      a matrix  \n",
      "1106  an end user  \n",
      "1430     Berkeley  \n",
      "3078      a mouse  \n",
      "98\n",
      "268\n"
     ]
    }
   ],
   "source": [
    "# Task 1.1. Usage of the word 'computer' in 1990s vs. 2000s\n",
    "computer_year_90s = jeopardy[(jeopardy.question.str.contains(\"Computer\", case=False)) \n",
    "                             & (jeopardy.air_date >= '1990-01-01') & (jeopardy.air_date <= '1999-12-31')]\n",
    "print(computer_year_90s.head())\n",
    "\n",
    "computer_year_00s = jeopardy[(jeopardy.question.str.contains(\"Computer\", case=False)) \n",
    "                             & (jeopardy.air_date >= '2000-01-01') & (jeopardy.air_date <= '2009-12-31')]\n",
    "print(computer_year_00s.head())\n",
    "print(len(computer_year_90s))\n",
    "print(len(computer_year_00s))"
   ]
  },
  {
   "cell_type": "code",
   "execution_count": 141,
   "metadata": {},
   "outputs": [
    {
     "name": "stdout",
     "output_type": "stream",
     "text": [
      "     show_number   air_date             round         category   value  \\\n",
      "379         2825 1996-12-06         Jeopardy!       TELEVISION   600.0   \n",
      "546         3036 1997-11-10         Jeopardy!      CELEB STUFF  1500.0   \n",
      "571         3036 1997-11-10  Double Jeopardy!  COLLEGE MASCOTS   200.0   \n",
      "577         3036 1997-11-10  Double Jeopardy!  COLLEGE MASCOTS   400.0   \n",
      "583         3036 1997-11-10  Double Jeopardy!  COLLEGE MASCOTS   600.0   \n",
      "\n",
      "                                                                                                                                                                                            question  \\\n",
      "379                                                                  Character seen <a href=\"http://www.j-archive.com/media/1996-12-06_J_04.wmv\">here</a>, his action-packed journeys are legendary:   \n",
      "546  (<a href=\"http://www.j-archive.com/media/1997-11-10_J_17.jpg\" target=\"_blank\">Hi, I'm Bob Eubanks.</a>)  Tea Leoni ran into this \"X-Files\" star at the Golden Globes & soon they were newlyweds   \n",
      "571                                                                                                   <a href=\"http://www.j-archive.com/media/1997-11-10_DJ_20.jpg\" target=\"_blank\">[video clue]</a>   \n",
      "577                                                                                                   <a href=\"http://www.j-archive.com/media/1997-11-10_DJ_27.jpg\" target=\"_blank\">[video clue]</a>   \n",
      "583                                                                                                   <a href=\"http://www.j-archive.com/media/1997-11-10_DJ_28.jpg\" target=\"_blank\">[video clue]</a>   \n",
      "\n",
      "                        answer  \n",
      "379     Hercules (Kevin Sorbo)  \n",
      "546             David Duchovny  \n",
      "571    Oregon State University  \n",
      "577  the University of Florida  \n",
      "583    the University of Texas  \n",
      "    show_number   air_date             round                    category  \\\n",
      "29         4680 2004-12-31  Double Jeopardy!  DR. SEUSS AT THE MULTIPLEX   \n",
      "39         4680 2004-12-31  Double Jeopardy!                 \"X\"s & \"O\"s   \n",
      "40         4680 2004-12-31  Double Jeopardy!  DR. SEUSS AT THE MULTIPLEX   \n",
      "45         4680 2004-12-31  Double Jeopardy!  DR. SEUSS AT THE MULTIPLEX   \n",
      "50         4680 2004-12-31  Double Jeopardy!  DR. SEUSS AT THE MULTIPLEX   \n",
      "\n",
      "     value  \\\n",
      "29   400.0   \n",
      "39   800.0   \n",
      "40  1200.0   \n",
      "45  1600.0   \n",
      "50  2000.0   \n",
      "\n",
      "                                                                                                                                                                              question  \\\n",
      "29         <a href=\"http://www.j-archive.com/media/2004-12-31_DJ_23.mp3\">Beyond ovoid abandonment, beyond ovoid betrayal... you won't believe the ending when he \"Hatches the Egg\"</a>   \n",
      "39                       The shorter glass seen <a href=\"http://www.j-archive.com/media/2004-12-31_DJ_12.jpg\" target=\"_blank\">here</a>, or a quaint cocktail made with sugar & bitters   \n",
      "40   <a href=\"http://www.j-archive.com/media/2004-12-31_DJ_26.mp3\">Ripped from today's headlines, he was a turtle king gone mad; Mack was the one good turtle who'd bring him down</a>   \n",
      "45  <a href=\"http://www.j-archive.com/media/2004-12-31_DJ_25.mp3\">Somewhere between truth & fiction lies Marco's reality... on Halloween, you won't believe you saw it on this St.</a>   \n",
      "50                 <a href=\"http://www.j-archive.com/media/2004-12-31_DJ_24.mp3\">\"500 Hats\"... 500 ways to die.  On July 4th, this young boy will defy a king... & become a legend</a>   \n",
      "\n",
      "                 answer  \n",
      "29               Horton  \n",
      "39     an old-fashioned  \n",
      "40               Yertle  \n",
      "45      Mulberry Street  \n",
      "50  Bartholomew Cubbins  \n",
      "375\n",
      "7870\n"
     ]
    }
   ],
   "source": [
    "# Task 1.2. Usage of the word 'internet' and 'WWW' in 1990s vs. 2000s\n",
    "internet_year_90s = jeopardy[(jeopardy.question.str.contains(\"Internet\", case=False) \n",
    "                              | jeopardy.question.str.contains(\"WWW\", case=False)) \n",
    "                             & (jeopardy.air_date >= '1990-01-01') & (jeopardy.air_date <= '1999-12-31')]\n",
    "print(internet_year_90s.head())\n",
    "\n",
    "internet_year_00s = jeopardy[(jeopardy.question.str.contains(\"Internet\", case=False)\n",
    "                              | jeopardy.question.str.contains(\"WWW\", case=False)) \n",
    "                             & (jeopardy.air_date >= '2000-01-01') & (jeopardy.air_date <= '2009-12-31')]\n",
    "print(internet_year_00s.head())\n",
    "\n",
    "print(len(internet_year_90s))\n",
    "print(len(internet_year_00s))"
   ]
  },
  {
   "cell_type": "code",
   "execution_count": 142,
   "metadata": {},
   "outputs": [
    {
     "name": "stdout",
     "output_type": "stream",
     "text": [
      "423\n",
      "1054\n"
     ]
    }
   ],
   "source": [
    "# Task 2. Are you more likely to find certain categories, like \"Literature\" in Single Jeopardy or Double Jeopardy?\n",
    "round_cat_single = jeopardy[jeopardy['round'].isin(['Jeopardy!']) \n",
    "                            & jeopardy.category.str.contains(\"Literature\", case=False)]\n",
    "print(len(round_cat_single))\n",
    "\n",
    "round_cat_double = jeopardy[jeopardy['round'].isin(['Double Jeopardy!']) \n",
    "                            & jeopardy.category.str.contains(\"Literature\", case=False)]\n",
    "print(len(round_cat_double))"
   ]
  },
  {
   "cell_type": "markdown",
   "metadata": {},
   "source": [
    "# to be adressed...\n",
    " * Build a system to quiz yourself. Grab random questions, and use the <a href=\"https://docs.python.org/3/library/functions.html#input\">input</a> function to get a response from the user. Check to see if that response was right or wrong."
   ]
  }
 ],
 "metadata": {
  "kernelspec": {
   "display_name": "Python 3 (ipykernel)",
   "language": "python",
   "name": "python3"
  },
  "language_info": {
   "codemirror_mode": {
    "name": "ipython",
    "version": 3
   },
   "file_extension": ".py",
   "mimetype": "text/x-python",
   "name": "python",
   "nbconvert_exporter": "python",
   "pygments_lexer": "ipython3",
   "version": "3.9.7"
  }
 },
 "nbformat": 4,
 "nbformat_minor": 2
}
